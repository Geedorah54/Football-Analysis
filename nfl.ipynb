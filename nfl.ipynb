{
 "cells": [
  {
   "cell_type": "code",
   "execution_count": 65,
   "id": "c3113fd6",
   "metadata": {},
   "outputs": [],
   "source": [
    "import pandas as pd # data modeling/transformation\n",
    "import nflreadpy as nfl # nfl data api wrapper\n",
    "from sklearn.model_selection import train_test_split # machine learning module\n",
    "from sklearn.ensemble import RandomForestClassifier # machine learning module\n",
    "from sklearn.metrics import accuracy_score # machine learning module\n",
    "import matplotlib.pyplot as plt # for plotting\n",
    "import numpy as np\n",
    "from sklearn.metrics import accuracy_score, roc_auc_score, roc_curve\n",
    "from sklearn.linear_model import LogisticRegression\n",
    "from sklearn.linear_model import LinearRegression\n",
    "import seaborn as sns\n",
    "\n",
    "# NOTE - CONVERT ALL DF'S TO PANDAS AS NFLREADPY USES POLARS BY DEFAULT"
   ]
  },
  {
   "cell_type": "code",
   "execution_count": 66,
   "id": "115fdf59",
   "metadata": {},
   "outputs": [],
   "source": [
    "# define timeframe and teams\n",
    "years = [2023, 2024, 2025]\n",
    "\n",
    "# Load pbp and filter data for seasons listed\n",
    "pbp = nfl.load_pbp(seasons=years).to_pandas()\n",
    "\n",
    "# Load and filter historical game data\n",
    "games = nfl.load_schedules(years).to_pandas()"
   ]
  },
  {
   "cell_type": "code",
   "execution_count": null,
   "id": "df314272",
   "metadata": {},
   "outputs": [
    {
     "name": "stdout",
     "output_type": "stream",
     "text": [
      "            game_id  season game_type  week     gameday   weekday gametime  \\\n",
      "0    2023_01_DET_KC    2023       REG     1  2023-09-07  Thursday    20:20   \n",
      "1   2023_01_CAR_ATL    2023       REG     1  2023-09-10    Sunday    13:00   \n",
      "2   2023_01_HOU_BAL    2023       REG     1  2023-09-10    Sunday    13:00   \n",
      "3   2023_01_CIN_CLE    2023       REG     1  2023-09-10    Sunday    13:00   \n",
      "4   2023_01_JAX_IND    2023       REG     1  2023-09-10    Sunday    13:00   \n",
      "5    2023_01_TB_MIN    2023       REG     1  2023-09-10    Sunday    13:00   \n",
      "6    2023_01_TEN_NO    2023       REG     1  2023-09-10    Sunday    13:00   \n",
      "7    2023_01_SF_PIT    2023       REG     1  2023-09-10    Sunday    13:00   \n",
      "8   2023_01_ARI_WAS    2023       REG     1  2023-09-10    Sunday    13:00   \n",
      "9    2023_01_GB_CHI    2023       REG     1  2023-09-10    Sunday    16:25   \n",
      "10   2023_01_LV_DEN    2023       REG     1  2023-09-10    Sunday    16:25   \n",
      "11  2023_01_MIA_LAC    2023       REG     1  2023-09-10    Sunday    16:25   \n",
      "12   2023_01_PHI_NE    2023       REG     1  2023-09-10    Sunday    16:25   \n",
      "13   2023_01_LA_SEA    2023       REG     1  2023-09-10    Sunday    16:25   \n",
      "14  2023_01_DAL_NYG    2023       REG     1  2023-09-10    Sunday    20:20   \n",
      "\n",
      "   away_team  away_score home_team  ...  wind  away_qb_id  home_qb_id  \\\n",
      "0        DET        21.0        KC  ...   NaN  00-0033106  00-0033873   \n",
      "1        CAR        10.0       ATL  ...   NaN  00-0039150  00-0038122   \n",
      "2        HOU         9.0       BAL  ...   NaN  00-0039163  00-0034796   \n",
      "3        CIN         3.0       CLE  ...   NaN  00-0036442  00-0033537   \n",
      "4        JAX        31.0       IND  ...   NaN  00-0036971  00-0039164   \n",
      "5         TB        20.0       MIN  ...   NaN  00-0034855  00-0029604   \n",
      "6        TEN        15.0        NO  ...   NaN  00-0029701  00-0031280   \n",
      "7         SF        30.0       PIT  ...   NaN  00-0037834  00-0038102   \n",
      "8        ARI        16.0       WAS  ...   NaN  00-0033949  00-0037077   \n",
      "9         GB        38.0       CHI  ...   NaN  00-0036264  00-0036945   \n",
      "10        LV        17.0       DEN  ...   NaN  00-0031345  00-0029263   \n",
      "11       MIA        36.0       LAC  ...   NaN  00-0036212  00-0036355   \n",
      "12       PHI        25.0        NE  ...   NaN  00-0036389  00-0036972   \n",
      "13        LA        30.0       SEA  ...   NaN  00-0026498  00-0030565   \n",
      "14       DAL        40.0       NYG  ...   NaN  00-0033077  00-0035710   \n",
      "\n",
      "        away_qb_name        home_qb_name       away_coach       home_coach  \\\n",
      "0         Jared Goff     Patrick Mahomes     Dan Campbell        Andy Reid   \n",
      "1        Bryce Young      Desmond Ridder      Frank Reich     Arthur Smith   \n",
      "2        C.J. Stroud       Lamar Jackson     DeMeco Ryans    John Harbaugh   \n",
      "3         Joe Burrow      Deshaun Watson       Zac Taylor  Kevin Stefanski   \n",
      "4    Trevor Lawrence  Anthony Richardson    Doug Pederson   Shane Steichen   \n",
      "5     Baker Mayfield        Kirk Cousins      Todd Bowles  Kevin O'Connell   \n",
      "6     Ryan Tannehill          Derek Carr      Mike Vrabel     Dennis Allen   \n",
      "7        Brock Purdy       Kenny Pickett    Kyle Shanahan      Mike Tomlin   \n",
      "8       Joshua Dobbs          Sam Howell  Jonathan Gannon       Ron Rivera   \n",
      "9        Jordan Love       Justin Fields     Matt LaFleur    Matt Eberflus   \n",
      "10   Jimmy Garoppolo      Russell Wilson   Josh McDaniels      Sean Payton   \n",
      "11    Tua Tagovailoa      Justin Herbert    Mike McDaniel   Brandon Staley   \n",
      "12       Jalen Hurts           Mac Jones    Nick Sirianni   Bill Belichick   \n",
      "13  Matthew Stafford          Geno Smith       Sean McVay     Pete Carroll   \n",
      "14      Dak Prescott        Daniel Jones    Mike McCarthy     Brian Daboll   \n",
      "\n",
      "           referee stadium_id                          stadium  \n",
      "0      John Hussey      KAN00  GEHA Field at Arrowhead Stadium  \n",
      "1      Brad Rogers      ATL97            Mercedes-Benz Stadium  \n",
      "2        Tra Blake      BAL00                 M&T Bank Stadium  \n",
      "3   Clete Blakeman      CLE00              FirstEnergy Stadium  \n",
      "4      Clay Martin      IND00                Lucas Oil Stadium  \n",
      "5      Scott Novak      MIN01                U.S. Bank Stadium  \n",
      "6      Ron Torbert      NOR00          Mercedes-Benz Superdome  \n",
      "7        Alex Kemp      PIT00                 Acrisure Stadium  \n",
      "8         Alan Eck      WAS00                       FedExField  \n",
      "9   Craig Wrolstad      CHI98                    Soldier Field  \n",
      "10   Bill Vinovich      DEN00       Empower Field at Mile High  \n",
      "11      Brad Allen      LAX01                     SoFi Stadium  \n",
      "12   Shawn Hochuli      BOS00                 Gillette Stadium  \n",
      "13     Shawn Smith      SEA00                      Lumen Field  \n",
      "14     Adrian Hill      NYC01                  MetLife Stadium  \n",
      "\n",
      "[15 rows x 46 columns]\n"
     ]
    }
   ],
   "source": [
    "\n",
    "# Aggregate team performance per game\n",
    "team_game_stats = (\n",
    "    pbp.groupby(['game_id', 'posteam'])\n",
    "    .agg({\n",
    "        'epa': 'mean',            # expected points added per play\n",
    "        'success': 'mean',        # success rate\n",
    "        'yards_gained': 'sum',\n",
    "        'touchdown': 'sum',\n",
    "        'interception': 'sum',\n",
    "        'fumble_lost': 'sum'\n",
    "    })\n",
    "    .reset_index()\n",
    "    .rename(columns={'posteam': 'team'})\n",
    ")\n",
    "\n",
    "def get_opponent(row):\n",
    "    if row['posteam'] == row['home_team']:\n",
    "        return row['away_team']\n",
    "    else:\n",
    "        return row['home_team']\n"
   ]
  },
  {
   "cell_type": "code",
   "execution_count": 68,
   "id": "906a824e",
   "metadata": {},
   "outputs": [],
   "source": [
    "# Merge pbp and games data into single dataframe for machine learning\n",
    "\n",
    "# Merge with game info\n",
    "team_stats = team_game_stats.merge(games[['game_id', 'season', 'week', 'home_team', 'away_team', 'home_score', 'away_score']], on='game_id')\n",
    "\n",
    "def get_opponent(row):\n",
    "    if row['team'] == row['home_team']:\n",
    "        return row['away_team']\n",
    "    else:\n",
    "        return row['home_team']\n",
    "\n",
    "team_stats['opponent'] = team_stats.apply(get_opponent, axis=1)\n",
    "\n",
    "team_stats[['season', 'week', 'team', 'opponent']].head(10)\n",
    "\n",
    "# Feature Engineering\n",
    "team_stats['win'] = team_stats.apply(\n",
    "    lambda row: 1 if (\n",
    "        (row['team'] == row['home_team'] and row['home_score'] > row['away_score']) or\n",
    "        (row['team'] == row['away_team'] and row['away_score'] > row['home_score'])\n",
    "    ) else 0,\n",
    "    axis=1\n",
    ")\n"
   ]
  },
  {
   "cell_type": "code",
   "execution_count": 69,
   "id": "812c0f49",
   "metadata": {},
   "outputs": [],
   "source": [
    "# Create rolling average feature to capture momentum - in this case a 3 week rolling average\n",
    "\n",
    "team_stats = team_stats.sort_values(['team', 'season', 'week'])\n",
    "team_stats['avg_points_last3'] = team_stats.groupby('team')['yards_gained'].transform(lambda x: x.rolling(3, min_periods=1).mean())\n"
   ]
  },
  {
   "cell_type": "code",
   "execution_count": 70,
   "id": "f540efdc",
   "metadata": {},
   "outputs": [
    {
     "name": "stdout",
     "output_type": "stream",
     "text": [
      "Accuracy: 0.6838235294117647\n"
     ]
    }
   ],
   "source": [
    "X = team_stats[['yards_gained', 'epa', 'touchdown', 'interception']]\n",
    "y = team_stats['win']\n",
    "\n",
    "X_train, X_test, y_train, y_test = train_test_split(X, y, test_size=0.2, random_state=42)\n",
    "model = RandomForestClassifier(n_estimators=200, random_state=42)\n",
    "model.fit(X_train, y_train)\n",
    "\n",
    "preds = model.predict(X_test)\n",
    "print('Accuracy:', accuracy_score(y_test, preds))\n"
   ]
  },
  {
   "cell_type": "code",
   "execution_count": 71,
   "id": "171d5523",
   "metadata": {},
   "outputs": [],
   "source": [
    "corr = team_stats.corr(numeric_only=True)['win'].sort_values(ascending=False)"
   ]
  },
  {
   "cell_type": "code",
   "execution_count": 72,
   "id": "ace2f2e4",
   "metadata": {},
   "outputs": [
    {
     "name": "stdout",
     "output_type": "stream",
     "text": [
      "        feature  importance\n",
      "1           epa    0.080147\n",
      "2     touchdown    0.053309\n",
      "3  interception    0.026103\n",
      "0  yards_gained    0.008088\n"
     ]
    }
   ],
   "source": [
    "from sklearn.inspection import permutation_importance\n",
    "\n",
    "result = permutation_importance(model, X_test, y_test, n_repeats=10, random_state=42)\n",
    "importance_df = pd.DataFrame({\n",
    "    'feature': X.columns,\n",
    "    'importance': result.importances_mean\n",
    "}).sort_values(by='importance', ascending=False)\n",
    "\n",
    "print(importance_df)"
   ]
  },
  {
   "cell_type": "code",
   "execution_count": 73,
   "id": "184ac14f",
   "metadata": {},
   "outputs": [
    {
     "data": {
      "text/plain": [
       "'\\n# --- 1️⃣ Correlation with Win ---\\ncorr = team_stats.corr(numeric_only=True)[\\'win\\'].sort_values(ascending=False)\\n\\nplt.figure(figsize=(10,4))\\ncorr.drop(\\'win\\').plot(kind=\\'bar\\', color=\\'skyblue\\')\\nplt.title(\\'Correlation of Features with Win\\')\\nplt.ylabel(\\'Correlation coefficient\\')\\nplt.xticks(rotation=45, ha=\\'right\\')\\nplt.show()\\n\\n# --- 2️⃣ Heatmap of All Feature Correlations ---\\nplt.figure(figsize=(10,8))\\nsns.heatmap(team_stats.corr(numeric_only=True), cmap=\\'coolwarm\\', center=0, annot=False)\\nplt.title(\"Feature Correlation Heatmap\")\\nplt.show()\\n\\n# --- 3️⃣ Model Feature Importance (if model already trained) ---\\nimportances = pd.Series(model.feature_importances_, index=X.columns).sort_values(ascending=False)\\n\\nplt.figure(figsize=(10,4))\\nimportances.plot(kind=\\'bar\\', color=\\'orange\\')\\nplt.title(\\'Feature Importance (Random Forest)\\')\\nplt.ylabel(\\'Importance\\')\\nplt.xticks(rotation=45, ha=\\'right\\')\\nplt.show()\\n\\n# --- 4️⃣ Permutation Importance (more robust) ---\\nresult = permutation_importance(model, X_test, y_test, n_repeats=10, random_state=42)\\nperm_df = pd.DataFrame({\\n    \\'feature\\': X.columns,\\n    \\'importance\\': result.importances_mean\\n}).sort_values(by=\\'importance\\', ascending=False)\\n\\nplt.figure(figsize=(10,4))\\nsns.barplot(data=perm_df, x=\\'importance\\', y=\\'feature\\', palette=\\'viridis\\')\\nplt.title(\\'Permutation Importance (Impact on Model Accuracy)\\')\\nplt.xlabel(\\'Mean importance across 10 shuffles\\')\\nplt.ylabel(\\'\\')\\nplt.show()\\n\\n# --- 5️⃣ Combine summary (optional) ---\\nsummary = pd.DataFrame({\\n    \\'Correlation_with_Win\\': corr.drop(\\'win\\'),\\n    \\'Model_Importance\\': importances,\\n    \\'Permutation_Importance\\': perm_df.set_index(\\'feature\\')[\\'importance\\']\\n}).sort_values(by=\\'Model_Importance\\', ascending=False)\\n\\ndisplay(summary.round(3))\\n'"
      ]
     },
     "execution_count": 73,
     "metadata": {},
     "output_type": "execute_result"
    }
   ],
   "source": [
    "'''\n",
    "# --- 1️⃣ Correlation with Win ---\n",
    "corr = team_stats.corr(numeric_only=True)['win'].sort_values(ascending=False)\n",
    "\n",
    "plt.figure(figsize=(10,4))\n",
    "corr.drop('win').plot(kind='bar', color='skyblue')\n",
    "plt.title('Correlation of Features with Win')\n",
    "plt.ylabel('Correlation coefficient')\n",
    "plt.xticks(rotation=45, ha='right')\n",
    "plt.show()\n",
    "\n",
    "# --- 2️⃣ Heatmap of All Feature Correlations ---\n",
    "plt.figure(figsize=(10,8))\n",
    "sns.heatmap(team_stats.corr(numeric_only=True), cmap='coolwarm', center=0, annot=False)\n",
    "plt.title(\"Feature Correlation Heatmap\")\n",
    "plt.show()\n",
    "\n",
    "# --- 3️⃣ Model Feature Importance (if model already trained) ---\n",
    "importances = pd.Series(model.feature_importances_, index=X.columns).sort_values(ascending=False)\n",
    "\n",
    "plt.figure(figsize=(10,4))\n",
    "importances.plot(kind='bar', color='orange')\n",
    "plt.title('Feature Importance (Random Forest)')\n",
    "plt.ylabel('Importance')\n",
    "plt.xticks(rotation=45, ha='right')\n",
    "plt.show()\n",
    "\n",
    "# --- 4️⃣ Permutation Importance (more robust) ---\n",
    "result = permutation_importance(model, X_test, y_test, n_repeats=10, random_state=42)\n",
    "perm_df = pd.DataFrame({\n",
    "    'feature': X.columns,\n",
    "    'importance': result.importances_mean\n",
    "}).sort_values(by='importance', ascending=False)\n",
    "\n",
    "plt.figure(figsize=(10,4))\n",
    "sns.barplot(data=perm_df, x='importance', y='feature', palette='viridis')\n",
    "plt.title('Permutation Importance (Impact on Model Accuracy)')\n",
    "plt.xlabel('Mean importance across 10 shuffles')\n",
    "plt.ylabel('')\n",
    "plt.show()\n",
    "\n",
    "# --- 5️⃣ Combine summary (optional) ---\n",
    "summary = pd.DataFrame({\n",
    "    'Correlation_with_Win': corr.drop('win'),\n",
    "    'Model_Importance': importances,\n",
    "    'Permutation_Importance': perm_df.set_index('feature')['importance']\n",
    "}).sort_values(by='Model_Importance', ascending=False)\n",
    "\n",
    "display(summary.round(3))\n",
    "'''"
   ]
  },
  {
   "cell_type": "code",
   "execution_count": 74,
   "id": "c2262b23",
   "metadata": {},
   "outputs": [],
   "source": [
    "team_stats = team_stats.sort_values(['team', 'season', 'week'])\n",
    "team_stats['epa_last3'] = team_stats.groupby('team')['epa'].transform(lambda x: x.rolling(3, min_periods=1).mean())\n",
    "team_stats['epa_last5'] = team_stats.groupby('team')['epa'].transform(lambda x: x.rolling(5, min_periods=1).mean())"
   ]
  },
  {
   "cell_type": "code",
   "execution_count": 75,
   "id": "46f6ee7e",
   "metadata": {},
   "outputs": [
    {
     "name": "stdout",
     "output_type": "stream",
     "text": [
      "<class 'pandas.core.frame.DataFrame'>\n",
      "Index: 1356 entries, 0 to 1355\n",
      "Data columns (total 21 columns):\n",
      " #   Column            Non-Null Count  Dtype  \n",
      "---  ------            --------------  -----  \n",
      " 0   game_id           1356 non-null   object \n",
      " 1   team              1356 non-null   object \n",
      " 2   epa               1356 non-null   float64\n",
      " 3   success           1356 non-null   float64\n",
      " 4   yards_gained      1356 non-null   float64\n",
      " 5   touchdown         1356 non-null   float64\n",
      " 6   interception      1356 non-null   float64\n",
      " 7   fumble_lost       1356 non-null   float64\n",
      " 8   season            1356 non-null   int64  \n",
      " 9   week              1356 non-null   int64  \n",
      " 10  home_team         1356 non-null   object \n",
      " 11  away_team         1356 non-null   object \n",
      " 12  home_score        1356 non-null   float64\n",
      " 13  away_score        1356 non-null   float64\n",
      " 14  opponent          1356 non-null   object \n",
      " 15  win               1356 non-null   int64  \n",
      " 16  avg_points_last3  1356 non-null   float64\n",
      " 17  epa_last3         1356 non-null   float64\n",
      " 18  epa_last5         1356 non-null   float64\n",
      " 19  def_epa_allowed   1356 non-null   float64\n",
      " 20  epa_diff          1356 non-null   float64\n",
      "dtypes: float64(13), int64(3), object(5)\n",
      "memory usage: 233.1+ KB\n",
      "None\n"
     ]
    }
   ],
   "source": [
    "defensive_epa = team_stats.groupby('opponent')['epa'].mean().rename('def_epa_allowed')\n",
    "team_stats = team_stats.merge(defensive_epa, left_on='team', right_index=True, how='left')\n",
    "team_stats['epa_diff'] = team_stats['epa'] - team_stats['def_epa_allowed']\n",
    "\n",
    "print(team_stats.info())"
   ]
  },
  {
   "cell_type": "code",
   "execution_count": 76,
   "id": "9547eb69",
   "metadata": {},
   "outputs": [
    {
     "name": "stdout",
     "output_type": "stream",
     "text": [
      "Accuracy: 0.7058823529411765\n",
      "ROC AUC: 0.7997833152762729\n"
     ]
    }
   ],
   "source": [
    "\n",
    "# Define features and target\n",
    "X = team_stats[['epa_diff']]\n",
    "y = team_stats['win']\n",
    "\n",
    "# Train/test split\n",
    "X_train, X_test, y_train, y_test = train_test_split(X, y, test_size=0.2, random_state=42)\n",
    "\n",
    "# Train logistic regression\n",
    "model = LogisticRegression()\n",
    "model.fit(X_train, y_train)\n",
    "\n",
    "# Evaluate\n",
    "preds = model.predict(X_test)\n",
    "probs = model.predict_proba(X_test)[:,1]\n",
    "\n",
    "print(\"Accuracy:\", accuracy_score(y_test, preds))\n",
    "print(\"ROC AUC:\", roc_auc_score(y_test, probs))\n",
    "\n",
    "\n",
    "\n",
    "\n"
   ]
  },
  {
   "cell_type": "code",
   "execution_count": 77,
   "id": "6abc6b63",
   "metadata": {},
   "outputs": [
    {
     "name": "stderr",
     "output_type": "stream",
     "text": [
      "/Users/jordanbormann/football/.venvpy310/lib/python3.10/site-packages/sklearn/utils/validation.py:2749: UserWarning: X does not have valid feature names, but LogisticRegression was fitted with feature names\n",
      "  warnings.warn(\n"
     ]
    },
    {
     "data": {
      "text/plain": [
       "'\\nplt.figure(figsize=(8,5))\\nplt.plot(epa_range, win_prob, color=\\'crimson\\')\\nplt.title(\"Win Probability vs. EPA Differential\")\\nplt.xlabel(\"EPA Differential (Team EPA - Opponent Avg EPA Allowed)\")\\nplt.ylabel(\"Predicted Win Probability\")\\nplt.grid(True)\\nplt.show()\\n'"
      ]
     },
     "execution_count": 77,
     "metadata": {},
     "output_type": "execute_result"
    }
   ],
   "source": [
    "epa_range = np.linspace(team_stats['epa_diff'].min(), team_stats['epa_diff'].max(), 100).reshape(-1,1)\n",
    "#touchdowns = np.linspace(team_stats['touchdown'].min(), team_stats['touchdown'].max(), 100).reshape(-1,1)\n",
    "\n",
    "#print(epa_range)\n",
    "#print(touchdowns)\n",
    "\n",
    "win_prob = model.predict_proba(epa_range)[:,1]\n",
    "\n",
    "'''\n",
    "plt.figure(figsize=(8,5))\n",
    "plt.plot(epa_range, win_prob, color='crimson')\n",
    "plt.title(\"Win Probability vs. EPA Differential\")\n",
    "plt.xlabel(\"EPA Differential (Team EPA - Opponent Avg EPA Allowed)\")\n",
    "plt.ylabel(\"Predicted Win Probability\")\n",
    "plt.grid(True)\n",
    "plt.show()\n",
    "'''\n"
   ]
  },
  {
   "cell_type": "code",
   "execution_count": 78,
   "id": "b401142e",
   "metadata": {},
   "outputs": [
    {
     "name": "stdout",
     "output_type": "stream",
     "text": [
      "Logistic Coefficient for epa_diff: 6.837\n",
      "Intercept: 0.012\n"
     ]
    }
   ],
   "source": [
    "coef = model.coef_[0][0]\n",
    "intercept = model.intercept_[0]\n",
    "print(f\"Logistic Coefficient for epa_diff: {coef:.3f}\")\n",
    "print(f\"Intercept: {intercept:.3f}\")\n"
   ]
  },
  {
   "cell_type": "code",
   "execution_count": null,
   "id": "d0a83c50",
   "metadata": {},
   "outputs": [
    {
     "data": {
      "text/plain": [
       "'\\n# Plot\\nplt.figure(figsize=(8,5))\\nplt.plot(epa_diff, prob_win, linewidth=2)\\nplt.axhline(0.5, color=\\'gray\\', linestyle=\\'--\\', alpha=0.6)\\nplt.axvline(0, color=\\'gray\\', linestyle=\\'--\\', alpha=0.6)\\n\\nplt.title(\"Win Probability vs EPA Difference\", fontsize=14)\\nplt.xlabel(\"EPA Difference (Team - Opponent)\", fontsize=12)\\nplt.ylabel(\"Predicted Win Probability\", fontsize=12)\\nplt.grid(alpha=0.3)\\nplt.show()\\n'"
      ]
     },
     "execution_count": 79,
     "metadata": {},
     "output_type": "execute_result"
    }
   ],
   "source": [
    "# Range of EPA differences (-0.5 to +0.5 covers realistic game-to-game spread)\n",
    "epa_diff = np.linspace(-0.5, 0.5, 200)\n",
    "\n",
    "# Logistic function for win probability\n",
    "prob_win = 1 / (1 + np.exp(-(intercept + coef * epa_diff)))\n",
    "\n",
    "'''\n",
    "# Plot\n",
    "plt.figure(figsize=(8,5))\n",
    "plt.plot(epa_diff, prob_win, linewidth=2)\n",
    "plt.axhline(0.5, color='gray', linestyle='--', alpha=0.6)\n",
    "plt.axvline(0, color='gray', linestyle='--', alpha=0.6)\n",
    "\n",
    "plt.title(\"Win Probability vs EPA Difference\", fontsize=14)\n",
    "plt.xlabel(\"EPA Difference (Team - Opponent)\", fontsize=12)\n",
    "plt.ylabel(\"Predicted Win Probability\", fontsize=12)\n",
    "plt.grid(alpha=0.3)\n",
    "plt.show()\n",
    "'''\n"
   ]
  },
  {
   "cell_type": "code",
   "execution_count": 80,
   "id": "d013f3c6",
   "metadata": {},
   "outputs": [],
   "source": [
    "import datetime\n",
    "\n",
    "games['gameday_date'] = pd.to_datetime(games['gameday']).dt.date\n",
    "today = datetime.date.today()\n",
    "\n",
    "this_week = games[\n",
    "    (games['gameday_date'] >= today) &\n",
    "    (games['gameday_date'] < today + datetime.timedelta(days=5))\n",
    "]\n"
   ]
  },
  {
   "cell_type": "code",
   "execution_count": 81,
   "id": "3bdd0dd7",
   "metadata": {},
   "outputs": [],
   "source": [
    "# recent games only\n",
    "recent_pbp = pbp[pbp['season'] >= 2023]\n",
    "\n",
    "team_epa = (\n",
    "    recent_pbp.groupby('posteam')['epa']\n",
    "    .mean()\n",
    "    .reset_index()\n",
    "    .rename(columns={'epa': 'team_epa'})\n",
    ")\n"
   ]
  },
  {
   "cell_type": "code",
   "execution_count": 82,
   "id": "f5317de6",
   "metadata": {},
   "outputs": [],
   "source": [
    "def_epa = (\n",
    "    recent_pbp.groupby('defteam')['epa']\n",
    "    .mean()\n",
    "    .reset_index()\n",
    "    .rename(columns={'defteam': 'team', 'epa': 'def_epa'})\n",
    ")"
   ]
  },
  {
   "cell_type": "code",
   "execution_count": null,
   "id": "68ce9541",
   "metadata": {},
   "outputs": [
    {
     "name": "stdout",
     "output_type": "stream",
     "text": [
      "<class 'pandas.core.frame.DataFrame'>\n",
      "RangeIndex: 32 entries, 0 to 31\n",
      "Data columns (total 4 columns):\n",
      " #   Column    Non-Null Count  Dtype  \n",
      "---  ------    --------------  -----  \n",
      " 0   posteam   32 non-null     object \n",
      " 1   team_epa  32 non-null     float64\n",
      " 2   team      32 non-null     object \n",
      " 3   def_epa   32 non-null     float64\n",
      "dtypes: float64(2), object(2)\n",
      "memory usage: 1.1+ KB\n",
      "None\n"
     ]
    }
   ],
   "source": [
    "team_stats = pd.merge(team_epa, def_epa, left_on='posteam', right_on='team', how='left')\n",
    "\n",
    "team_stats = team_stats[['posteam', 'team_epa', 'def_epa']]\n",
    "team_stats.rename(columns={'posteam': 'team'}, inplace=True)\n",
    "#team_stats.head()\n"
   ]
  },
  {
   "cell_type": "code",
   "execution_count": 84,
   "id": "94d4f79b",
   "metadata": {},
   "outputs": [],
   "source": [
    "\n",
    "pred_df = this_week.copy()\n",
    "\n",
    "pred_df = pred_df.merge(team_stats, left_on='home_team', right_on='team', how='left')\n",
    "\n",
    "pred_df.rename(columns={'team_epa': 'home_epa', 'def_epa': 'home_def_epa'}, inplace=True)\n",
    "pred_df = pred_df.merge(team_stats, left_on='away_team', right_on='team', how='left')\n",
    "pred_df.rename(columns={'team_epa': 'away_epa', 'def_epa': 'away_def_epa'}, inplace=True)\n",
    "\n",
    "\n",
    "# Compute offensive EPA difference (home - away)\n",
    "pred_df['epa_diff'] = (pred_df['home_epa'] - pred_df['away_epa'])\n"
   ]
  },
  {
   "cell_type": "code",
   "execution_count": null,
   "id": "b6d0d942",
   "metadata": {},
   "outputs": [],
   "source": [
    "pred_df['win_prob_home'] = 1 / (1 + np.exp(-(intercept + coef * pred_df['epa_diff'])))\n",
    "pred_df['model_winner'] = np.where(pred_df['win_prob_home'] > 0.5, pred_df['home_team'], pred_df['away_team'])\n",
    "\n",
    "pred_df['win_prob_away'] = 1 - pred_df['win_prob_home']\n",
    "\n",
    "'''\n",
    "pred_df['win_prob_home'] = pred_df['win_prob_home'].apply(lambda x: f'{x:.2%}')\n",
    "pred_df['win_prob_away'] = pred_df['win_prob_away'].apply(lambda x: f'{x:.2%}')\n",
    "'''\n",
    "\n",
    "final = pred_df[['gameday', 'home_team', 'away_team', 'win_prob_home', 'win_prob_away','home_moneyline','away_moneyline','model_winner']]\n",
    "\n",
    "final.to_csv(\"weekly_prediction.csv\")\n",
    "\n"
   ]
  },
  {
   "cell_type": "code",
   "execution_count": null,
   "id": "5c2ea7c1",
   "metadata": {},
   "outputs": [
    {
     "data": {
      "text/html": [
       "<div>\n",
       "<style scoped>\n",
       "    .dataframe tbody tr th:only-of-type {\n",
       "        vertical-align: middle;\n",
       "    }\n",
       "\n",
       "    .dataframe tbody tr th {\n",
       "        vertical-align: top;\n",
       "    }\n",
       "\n",
       "    .dataframe thead th {\n",
       "        text-align: right;\n",
       "    }\n",
       "</style>\n",
       "<table border=\"1\" class=\"dataframe\">\n",
       "  <thead>\n",
       "    <tr style=\"text-align: right;\">\n",
       "      <th></th>\n",
       "      <th>team</th>\n",
       "      <th>model_prob</th>\n",
       "      <th>implied_prob</th>\n",
       "      <th>edge</th>\n",
       "      <th>ev</th>\n",
       "      <th>rank</th>\n",
       "    </tr>\n",
       "  </thead>\n",
       "  <tbody>\n",
       "    <tr>\n",
       "      <th>0</th>\n",
       "      <td>TEN</td>\n",
       "      <td>0.370052</td>\n",
       "      <td>0.105263</td>\n",
       "      <td>0.264789</td>\n",
       "      <td>2.515493</td>\n",
       "      <td>1</td>\n",
       "    </tr>\n",
       "    <tr>\n",
       "      <th>1</th>\n",
       "      <td>WAS</td>\n",
       "      <td>0.473226</td>\n",
       "      <td>0.153846</td>\n",
       "      <td>0.319379</td>\n",
       "      <td>2.075967</td>\n",
       "      <td>2</td>\n",
       "    </tr>\n",
       "    <tr>\n",
       "      <th>2</th>\n",
       "      <td>MIA</td>\n",
       "      <td>0.586201</td>\n",
       "      <td>0.227273</td>\n",
       "      <td>0.358928</td>\n",
       "      <td>1.579284</td>\n",
       "      <td>3</td>\n",
       "    </tr>\n",
       "    <tr>\n",
       "      <th>3</th>\n",
       "      <td>CLE</td>\n",
       "      <td>0.431139</td>\n",
       "      <td>0.250000</td>\n",
       "      <td>0.181139</td>\n",
       "      <td>0.724555</td>\n",
       "      <td>4</td>\n",
       "    </tr>\n",
       "    <tr>\n",
       "      <th>4</th>\n",
       "      <td>DAL</td>\n",
       "      <td>0.582938</td>\n",
       "      <td>0.393701</td>\n",
       "      <td>0.189237</td>\n",
       "      <td>0.480661</td>\n",
       "      <td>5</td>\n",
       "    </tr>\n",
       "    <tr>\n",
       "      <th>5</th>\n",
       "      <td>SF</td>\n",
       "      <td>0.640736</td>\n",
       "      <td>0.512195</td>\n",
       "      <td>0.128541</td>\n",
       "      <td>0.250961</td>\n",
       "      <td>6</td>\n",
       "    </tr>\n",
       "    <tr>\n",
       "      <th>6</th>\n",
       "      <td>NYG</td>\n",
       "      <td>0.256926</td>\n",
       "      <td>0.238095</td>\n",
       "      <td>0.018831</td>\n",
       "      <td>0.079089</td>\n",
       "      <td>7</td>\n",
       "    </tr>\n",
       "    <tr>\n",
       "      <th>7</th>\n",
       "      <td>NYJ</td>\n",
       "      <td>0.307905</td>\n",
       "      <td>0.294118</td>\n",
       "      <td>0.013787</td>\n",
       "      <td>0.046876</td>\n",
       "      <td>8</td>\n",
       "    </tr>\n",
       "    <tr>\n",
       "      <th>8</th>\n",
       "      <td>GB</td>\n",
       "      <td>0.628855</td>\n",
       "      <td>0.618321</td>\n",
       "      <td>0.010535</td>\n",
       "      <td>0.017038</td>\n",
       "      <td>9</td>\n",
       "    </tr>\n",
       "  </tbody>\n",
       "</table>\n",
       "</div>"
      ],
      "text/plain": [
       "  team  model_prob  implied_prob      edge        ev  rank\n",
       "0  TEN    0.370052      0.105263  0.264789  2.515493     1\n",
       "1  WAS    0.473226      0.153846  0.319379  2.075967     2\n",
       "2  MIA    0.586201      0.227273  0.358928  1.579284     3\n",
       "3  CLE    0.431139      0.250000  0.181139  0.724555     4\n",
       "4  DAL    0.582938      0.393701  0.189237  0.480661     5\n",
       "5   SF    0.640736      0.512195  0.128541  0.250961     6\n",
       "6  NYG    0.256926      0.238095  0.018831  0.079089     7\n",
       "7  NYJ    0.307905      0.294118  0.013787  0.046876     8\n",
       "8   GB    0.628855      0.618321  0.010535  0.017038     9"
      ]
     },
     "execution_count": 86,
     "metadata": {},
     "output_type": "execute_result"
    }
   ],
   "source": [
    "# EV RANKING - NEEDS WORK\n",
    "\n",
    "'''\n",
    "numeric_cols = ['home_moneyline', 'away_moneyline', 'win_prob_home', 'win_prob_away']\n",
    "for col in numeric_cols:\n",
    "    pred_df[col] = pd.to_numeric(pred_df[col], errors='coerce')\n",
    "\n",
    "\n",
    "\n",
    "def rank_bets(pred_df):\n",
    "    # Convert moneyline to implied probability\n",
    "    def moneyline_to_prob(ml):\n",
    "        if ml > 0:\n",
    "            return 100 / (ml + 100)\n",
    "        else:\n",
    "            return -ml / (-ml + 100)\n",
    "\n",
    "    pred_df['home_implied_prob'] = pred_df['home_moneyline'].apply(moneyline_to_prob)\n",
    "    pred_df['away_implied_prob'] = pred_df['away_moneyline'].apply(moneyline_to_prob)\n",
    "\n",
    "    # Compute edge\n",
    "    pred_df['home_edge'] = pred_df['win_prob_home'] - pred_df['home_implied_prob']\n",
    "    pred_df['away_edge'] = pred_df['win_prob_away'] - pred_df['away_implied_prob']\n",
    "\n",
    "    # Compute expected value in dollars\n",
    "    def expected_value(prob, ml):\n",
    "        if ml > 0:\n",
    "            payout = ml / 100\n",
    "        else:\n",
    "            payout = 100 / -ml\n",
    "        return prob * payout - (1 - prob)\n",
    "\n",
    "    pred_df['home_ev'] = pred_df.apply(lambda row: expected_value(row['win_prob_home'], row['home_moneyline']), axis=1)\n",
    "    pred_df['away_ev'] = pred_df.apply(lambda row: expected_value(row['win_prob_away'], row['away_moneyline']), axis=1)\n",
    "\n",
    "    # Melt into long format for easier ranking\n",
    "    home = pred_df[['home_team', 'win_prob_home', 'home_implied_prob', 'home_edge', 'home_ev']].rename(\n",
    "        columns={'home_team': 'team', 'win_prob_home': 'model_prob', 'home_implied_prob': 'implied_prob',\n",
    "                 'home_edge': 'edge', 'home_ev': 'ev'}\n",
    "    )\n",
    "\n",
    "    away = pred_df[['away_team', 'win_prob_away', 'away_implied_prob', 'away_edge', 'away_ev']].rename(\n",
    "        columns={'away_team': 'team', 'win_prob_away': 'model_prob', 'away_implied_prob': 'implied_prob',\n",
    "                 'away_edge': 'edge', 'away_ev': 'ev'}\n",
    "    )\n",
    "\n",
    "    ev_df = pd.concat([home, away]).reset_index(drop=True)\n",
    "\n",
    "    # Rank by expected value (descending)\n",
    "    ev_df = ev_df.sort_values('ev', ascending=False).reset_index(drop=True)\n",
    "    ev_df['rank'] = ev_df['ev'].rank(method='first', ascending=False).astype(int)\n",
    "\n",
    "    # Filter only positive EV for \"safe\" bets (optional)\n",
    "    ev_df = ev_df[ev_df['ev'] > 0]\n",
    "\n",
    "    return ev_df\n",
    "\n",
    "ranked_bets = rank_bets(pred_df)\n",
    "ranked_bets[['team','model_prob','implied_prob','edge','ev','rank']]\n",
    "\n",
    "'''\n"
   ]
  }
 ],
 "metadata": {
  "kernelspec": {
   "display_name": ".venvpy310",
   "language": "python",
   "name": "python3"
  },
  "language_info": {
   "codemirror_mode": {
    "name": "ipython",
    "version": 3
   },
   "file_extension": ".py",
   "mimetype": "text/x-python",
   "name": "python",
   "nbconvert_exporter": "python",
   "pygments_lexer": "ipython3",
   "version": "3.10.18"
  }
 },
 "nbformat": 4,
 "nbformat_minor": 5
}
